{
 "cells": [
  {
   "cell_type": "code",
   "execution_count": 5,
   "id": "bb3e6676",
   "metadata": {},
   "outputs": [],
   "source": [
    "import pandas as pd\n",
    "import numpy as np\n",
    "import requests\n",
    "pd.set_option('max_colwidth', 1000)\n"
   ]
  },
  {
   "cell_type": "code",
   "execution_count": 23,
   "id": "6a388127",
   "metadata": {},
   "outputs": [
    {
     "name": "stdout",
     "output_type": "stream",
     "text": [
      "Collecting sparqlwrapper\n",
      "  Downloading SPARQLWrapper-2.0.0-py3-none-any.whl (28 kB)\n",
      "Requirement already satisfied: rdflib>=6.1.1 in /home/dgarijo/.local/lib/python3.10/site-packages (from sparqlwrapper) (6.2.0)\n",
      "Requirement already satisfied: isodate in /home/dgarijo/.local/lib/python3.10/site-packages (from rdflib>=6.1.1->sparqlwrapper) (0.6.1)\n",
      "Requirement already satisfied: pyparsing in /home/dgarijo/.local/lib/python3.10/site-packages (from rdflib>=6.1.1->sparqlwrapper) (3.0.9)\n",
      "Requirement already satisfied: setuptools in /home/dgarijo/miniconda3/envs/czi/lib/python3.10/site-packages (from rdflib>=6.1.1->sparqlwrapper) (68.2.2)\n",
      "Requirement already satisfied: six in /home/dgarijo/miniconda3/envs/czi/lib/python3.10/site-packages (from isodate->rdflib>=6.1.1->sparqlwrapper) (1.16.0)\n",
      "Installing collected packages: sparqlwrapper\n",
      "Successfully installed sparqlwrapper-2.0.0\n"
     ]
    }
   ],
   "source": [
    "!pip install sparqlwrapper"
   ]
  },
  {
   "cell_type": "code",
   "execution_count": 24,
   "id": "c203c119",
   "metadata": {},
   "outputs": [],
   "source": [
    "from SPARQLWrapper import SPARQLWrapper, JSON"
   ]
  },
  {
   "cell_type": "code",
   "execution_count": 160,
   "id": "55279f29",
   "metadata": {},
   "outputs": [],
   "source": [
    "# given a DOI, get the topics that are relevant from OpenAlex\n",
    "# We get the topics over 0.5 to get the most relevants only\n",
    "def getTopicsAndAuthors(doi):\n",
    "    # Set the URL for the OpenAlex API\n",
    "    url = \"https://api.openalex.org/works/https://doi.org/\"\n",
    "    # Set the headers\n",
    "    headers = {\n",
    "        'Accept': 'application/json',\n",
    "        'Content-Type': 'application/json',\n",
    "    }\n",
    "    # Set the parameters for the query\n",
    "    #params = {\n",
    "    #    'query': 'your_query_here',  # Replace 'your_query_here' with your actual query\n",
    "    #    'apikey': 'your_api_key_here',  # Replace 'your_api_key_here' with your actual API key\n",
    "    #}\n",
    "    response = requests.get(url+str(doi), headers=headers)\n",
    "    json_response = response.json()\n",
    "    return_value = {\"doi\":doi}\n",
    "    if(json_response[\"concepts\"] is not None):\n",
    "        return_list = []\n",
    "        for concept in json_response[\"concepts\"]:\n",
    "            if(concept[\"score\"]> 0.5):\n",
    "                return_list.append(concept[\"display_name\"])\n",
    "    return_value[\"concepts\"] = return_list\n",
    "    if(json_response[\"authorships\"] is not None):\n",
    "        return_authors = []\n",
    "        return_authors_openAlex = []\n",
    "        for author in json_response[\"authorships\"]:\n",
    "            if(author[\"author\"]):\n",
    "                a = author[\"author\"]\n",
    "                return_authors_openAlex.append(a[\"id\"])\n",
    "                return_authors.append(a[\"display_name\"])\n",
    "    return_value[\"authors\"] = return_authors\n",
    "    return_value[\"authors_openAlex\"] = return_authors_openAlex\n",
    "    return return_value\n",
    "    "
   ]
  },
  {
   "cell_type": "code",
   "execution_count": 134,
   "id": "7b706d77",
   "metadata": {},
   "outputs": [
    {
     "name": "stdout",
     "output_type": "stream",
     "text": [
      "{'doi': '10.18632/aging.102901', 'concepts': ['White matter', 'Cognition', 'White (mutation)'], 'authors': ['https://openalex.org/A5048455627', 'https://openalex.org/A5017468786', 'https://openalex.org/A5035796732', 'https://openalex.org/A5040897654', 'https://openalex.org/A5030034440', 'https://openalex.org/A5052836448', 'https://openalex.org/A5044626751', 'https://openalex.org/A5073568638'], 'authors_openAlex': ['Cui Zhao', 'Ying Liang', 'Ting Cui', 'Yihua Zhong', 'Xianglong Li', 'Jing Wei', 'Chunlin Li', 'Xu Zhang']}\n"
     ]
    }
   ],
   "source": [
    "#test of the previous function\n",
    "print(getTopicsAndAuthors(\"10.18632/aging.102901\"))"
   ]
  },
  {
   "cell_type": "code",
   "execution_count": 135,
   "id": "bb9016aa",
   "metadata": {},
   "outputs": [],
   "source": [
    "sparql = SPARQLWrapper(\"http://localhost:3030/czi/query\")\n",
    "\n",
    "# given a mention, return the mention variations and the group they belong to\n",
    "def get_mention_variations(mention_name):\n",
    "    query =\"\"\" \n",
    "    PREFIX rdf: <http://www.w3.org/1999/02/22-rdf-syntax-ns#>\n",
    "    PREFIX rdfs: <http://www.w3.org/2000/01/rdf-schema#>\n",
    "    SELECT distinct ?name ?alias ?soft WHERE {\n",
    "      ?soft <https://w3id.org/softalias/alias>/<https://schema.org/name> \"mention_name\".\n",
    "      ?soft  <https://w3id.org/softalias/alias>?alias .\n",
    "          ?alias <https://schema.org/name> ?name .\n",
    "      ?soft <https://schema.org/url> ?url .\n",
    "    } LIMIT 100\n",
    "    \"\"\"\n",
    "    query = query.replace(\"mention_name\", mention_name)\n",
    "    # print(query)\n",
    "    sparql.setQuery(query)\n",
    "    sparql.setReturnFormat(JSON)\n",
    "\n",
    "    # Execute the query and convert results to JSON format\n",
    "    results = sparql.query().convert()\n",
    "\n",
    "    # Process and return the results\n",
    "    res = []\n",
    "    for result in results[\"results\"][\"bindings\"]:\n",
    "        r = {\"name\":result[\"name\"][\"value\"],\n",
    "             \"alias\":result[\"alias\"][\"value\"].replace(\"https://w3id.org/softalias/alias/\",\"\"), \n",
    "             \"group\":result[\"soft\"][\"value\"].replace(\"https://w3id.org/softalias/SoftwareApplication/\",\"\")\n",
    "            }\n",
    "        res.append(r)\n",
    "    return res\n",
    "\n"
   ]
  },
  {
   "cell_type": "code",
   "execution_count": 136,
   "id": "82b22d17",
   "metadata": {},
   "outputs": [
    {
     "name": "stdout",
     "output_type": "stream",
     "text": [
      "[{'name': 'PANDA (Pipeline for Analyzing braiN Diffusion imAges)', 'alias': 'SM696942', 'group': 'SM27626'}, {'name': 'panda', 'alias': 'SM586756', 'group': 'SM27626'}, {'name': 'PANDA', 'alias': 'SM27626', 'group': 'SM27626'}]\n"
     ]
    }
   ],
   "source": [
    "# test of the previous function.\n",
    "# Note that this includes the individuals where the mentions belongs. \n",
    "# It may skip some individuals that belong to other similar clusters\n",
    "print(get_mention_variations(\"PANDA\"))"
   ]
  },
  {
   "cell_type": "code",
   "execution_count": 137,
   "id": "1c7c43f9",
   "metadata": {},
   "outputs": [],
   "source": [
    "# Read CZI whole dataset\n",
    "raw_df = pd.read_csv('comm_raw.tsv.gz', sep = '\\\\t', engine = 'python', compression = 'gzip')"
   ]
  },
  {
   "cell_type": "code",
   "execution_count": 163,
   "id": "9a9e9010",
   "metadata": {},
   "outputs": [],
   "source": [
    "# Given a mention id, this method prints out the DOI, \n",
    "# text and topics associated with the first 4 mentions in papers\n",
    "# Limit is four to avoid ban from OpenAlex\n",
    "# a mention is the dictionary object returned by getMentionVariations\n",
    "limit = 5\n",
    "def getSampleForMention(mention, writer):\n",
    "    i = 0\n",
    "    mention_name = mention['name']\n",
    "    mention_id = mention['alias']\n",
    "    mention_group = mention['group']\n",
    "    for index, row in raw_df[raw_df['ID'] == mention_id].iterrows():\n",
    "        try:\n",
    "            info = getTopicsAndAuthors(row['doi'])\n",
    "            authors = info['authors']\n",
    "            authors_oa = info['authors_openAlex']\n",
    "            concepts = info ['concepts']\n",
    "            authors_string = ','.join(authors)\n",
    "            authors_string_oa = ','.join(authors_oa)\n",
    "            concepts_string = ','.join(concepts)\n",
    "            #print(mention_name, mention_id, mention_group, row['doi'], row['text'], authors, concepts)\n",
    "            writer.writerow([mention_name, mention_id, mention_group, \n",
    "                             row['doi'], row['text'], authors_string, authors_string_oa, concepts_string])\n",
    "            #print(getTopicsAndAuthors(row['doi']))\n",
    "            i = i+1\n",
    "            # we only take the first 4 as a sample\n",
    "            if i > limit:\n",
    "                break\n",
    "        except:\n",
    "            pass"
   ]
  },
  {
   "cell_type": "code",
   "execution_count": 165,
   "id": "b8f8d8a3",
   "metadata": {},
   "outputs": [],
   "source": [
    "import csv\n",
    "#raw_df[raw_df['ID'] == 'SM27626']\n",
    "#getSampleForVariation(\"SM27626\")\n",
    "\n",
    "# Separate analysis on potential problematic mentions\n",
    "# NON-PROBLEMATIC: SKLEARN\n",
    "# Problematic ones are: Pandas, PRISM (done separately), Activity, sets, rhinoceros, slingshot, flip, mem, earth, eva\n",
    "# Problematic ones are found because there are at least 2 package managers with that information. \n",
    "# But maybe the clustering is correct.\n",
    "\n",
    "# Analysis:\n",
    "# 1) Get mention variations for a mention\n",
    "# 2) Sample publications for that mentions.\n",
    "# 3) Enrich the mentions with topics, authors.\n",
    "# 4) Validate and add to corpus. Maybe try and find the target URL too.\n",
    "\n",
    "target_mention = \"star\"\n",
    "\n",
    "with open('sample_data.csv', mode='w', newline='') as file:\n",
    "    writer = csv.writer(file,quoting=csv.QUOTE_ALL, delimiter=';')\n",
    "    writer.writerow(['Mention Name', 'Mention ID', 'Mention Group', 'DOI', 'Text', 'Authors', 'Authors_oa','Concepts'])\n",
    "    # The following is a test without programming\n",
    "    mention_list = get_mention_variations(target_mention)\n",
    "    # now let's take the 'panda' mention (SM586756)\n",
    "    for i in mention_list:\n",
    "        getSampleForMention(i, writer)"
   ]
  },
  {
   "cell_type": "code",
   "execution_count": null,
   "id": "9966ffd1",
   "metadata": {},
   "outputs": [],
   "source": [
    "\n"
   ]
  },
  {
   "cell_type": "code",
   "execution_count": null,
   "id": "f85ae240",
   "metadata": {},
   "outputs": [],
   "source": []
  },
  {
   "cell_type": "code",
   "execution_count": null,
   "id": "f6a60ae8",
   "metadata": {},
   "outputs": [],
   "source": []
  }
 ],
 "metadata": {
  "kernelspec": {
   "display_name": "Python 3 (ipykernel)",
   "language": "python",
   "name": "python3"
  },
  "language_info": {
   "codemirror_mode": {
    "name": "ipython",
    "version": 3
   },
   "file_extension": ".py",
   "mimetype": "text/x-python",
   "name": "python",
   "nbconvert_exporter": "python",
   "pygments_lexer": "ipython3",
   "version": "3.10.12"
  }
 },
 "nbformat": 4,
 "nbformat_minor": 5
}
